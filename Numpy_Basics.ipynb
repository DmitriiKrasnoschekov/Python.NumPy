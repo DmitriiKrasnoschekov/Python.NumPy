{
  "nbformat": 4,
  "nbformat_minor": 0,
  "metadata": {
    "colab": {
      "provenance": [],
      "toc_visible": true,
      "authorship_tag": "ABX9TyNMUWGycqk1C3BVs9CaXjBp"
    },
    "kernelspec": {
      "name": "python3",
      "display_name": "Python 3"
    },
    "language_info": {
      "name": "python"
    }
  },
  "cells": [
    {
      "cell_type": "markdown",
      "source": [
        "# Numpy"
      ],
      "metadata": {
        "id": "CaPikUXZYHyC"
      }
    },
    {
      "cell_type": "markdown",
      "source": [
        "## Numpy Ndarray: объект многомерного массива"
      ],
      "metadata": {
        "id": "ikt6cl0eYKX3"
      }
    },
    {
      "cell_type": "markdown",
      "source": [
        "Объект ndarray для представления\n",
        "N-мерного массива; это быстрый и гибкий контейнер для хранения больших\n",
        "наборов данных в  Python"
      ],
      "metadata": {
        "id": "LEUHzGkKYaSW"
      }
    },
    {
      "cell_type": "code",
      "execution_count": 1,
      "metadata": {
        "id": "54LK6aarXNJ6"
      },
      "outputs": [],
      "source": [
        "import numpy as np"
      ]
    },
    {
      "cell_type": "code",
      "source": [
        "data = np.array([[1.5, -0.1, 3], [0, -3, 6.5]])"
      ],
      "metadata": {
        "id": "jZNehfScYBbM"
      },
      "execution_count": 5,
      "outputs": []
    },
    {
      "cell_type": "markdown",
      "source": [
        "У любого массива есть атрибут shape – кортеж, описывающий размер по каждому измерению,\n",
        "и атрибут dtype – объект, описывающий тип данных в массиве"
      ],
      "metadata": {
        "id": "YwCjxwlDYdW-"
      }
    },
    {
      "cell_type": "code",
      "source": [
        "data.shape"
      ],
      "metadata": {
        "colab": {
          "base_uri": "https://localhost:8080/"
        },
        "id": "hgxAkjSxYEdH",
        "outputId": "4650fac4-35fd-4a79-a358-2e0f42d6b1c3"
      },
      "execution_count": 6,
      "outputs": [
        {
          "output_type": "execute_result",
          "data": {
            "text/plain": [
              "(2, 3)"
            ]
          },
          "metadata": {},
          "execution_count": 6
        }
      ]
    },
    {
      "cell_type": "code",
      "source": [
        "data.dtype"
      ],
      "metadata": {
        "colab": {
          "base_uri": "https://localhost:8080/"
        },
        "id": "_aQq3DzZYipH",
        "outputId": "f23cef44-6b0b-4f0e-bc12-22f7ab93e0ec"
      },
      "execution_count": 7,
      "outputs": [
        {
          "output_type": "execute_result",
          "data": {
            "text/plain": [
              "dtype('float64')"
            ]
          },
          "metadata": {},
          "execution_count": 7
        }
      ]
    },
    {
      "cell_type": "markdown",
      "source": [
        "## Создание ndarray"
      ],
      "metadata": {
        "id": "W_z6bCBbYpWs"
      }
    },
    {
      "cell_type": "markdown",
      "source": [
        "Проще всего создать массив с помощью функции array. Она принимает любой\n",
        "объект, похожий на последовательность (в том числе другой массив), и порождает новый массив NumPy, содержащий переданные данные. Например, такое\n",
        "преобразование можно проделать со списком"
      ],
      "metadata": {
        "id": "6XVpfjLxYvcP"
      }
    },
    {
      "cell_type": "code",
      "source": [
        "data1 = [6, 7.5, 8, 0, 1]"
      ],
      "metadata": {
        "id": "gn1gzmb-Yj46"
      },
      "execution_count": 8,
      "outputs": []
    },
    {
      "cell_type": "code",
      "source": [
        "arr1 = np.array(data1)"
      ],
      "metadata": {
        "id": "8DZQoi6-YyYm"
      },
      "execution_count": 9,
      "outputs": []
    },
    {
      "cell_type": "code",
      "source": [
        "arr1"
      ],
      "metadata": {
        "colab": {
          "base_uri": "https://localhost:8080/"
        },
        "id": "mhc7a0rOY0Wl",
        "outputId": "a6c167ac-4fb4-4ad7-e3f0-207cb7a49c83"
      },
      "execution_count": 10,
      "outputs": [
        {
          "output_type": "execute_result",
          "data": {
            "text/plain": [
              "array([6. , 7.5, 8. , 0. , 1. ])"
            ]
          },
          "metadata": {},
          "execution_count": 10
        }
      ]
    },
    {
      "cell_type": "markdown",
      "source": [
        "Вложенные последовательности, например список списков одинаковой\n",
        "длины, можно преобразовать в многомерный массив"
      ],
      "metadata": {
        "id": "KSCMmNAvY9hY"
      }
    },
    {
      "cell_type": "code",
      "source": [
        "data2 = [[1, 2, 3, 4], [5, 6, 7, 8]]"
      ],
      "metadata": {
        "id": "V7yiyQrlY0rr"
      },
      "execution_count": 11,
      "outputs": []
    },
    {
      "cell_type": "code",
      "source": [
        "arr2 = np.array(data2)"
      ],
      "metadata": {
        "id": "Ka5wRc_SY_T2"
      },
      "execution_count": 12,
      "outputs": []
    },
    {
      "cell_type": "code",
      "source": [
        "arr2"
      ],
      "metadata": {
        "colab": {
          "base_uri": "https://localhost:8080/"
        },
        "id": "VGPkhb5nZBUL",
        "outputId": "db1c749f-75fd-4998-b1ee-7ae51b84c805"
      },
      "execution_count": 13,
      "outputs": [
        {
          "output_type": "execute_result",
          "data": {
            "text/plain": [
              "array([[1, 2, 3, 4],\n",
              "       [5, 6, 7, 8]])"
            ]
          },
          "metadata": {},
          "execution_count": 13
        }
      ]
    },
    {
      "cell_type": "markdown",
      "source": [
        "Поскольку data2 – список списков, массив NumPy arr2 имеет два измерения,\n",
        "а его форма выведена из данных. В этом легко убедиться, прочитав атрибуты\n",
        "ndim и shape"
      ],
      "metadata": {
        "id": "pn60q3UMZFxg"
      }
    },
    {
      "cell_type": "code",
      "source": [
        "arr2.ndim"
      ],
      "metadata": {
        "colab": {
          "base_uri": "https://localhost:8080/"
        },
        "id": "x40CatsTZBqy",
        "outputId": "c653e31d-48a3-485f-a000-528b80d67cf4"
      },
      "execution_count": 14,
      "outputs": [
        {
          "output_type": "execute_result",
          "data": {
            "text/plain": [
              "2"
            ]
          },
          "metadata": {},
          "execution_count": 14
        }
      ]
    },
    {
      "cell_type": "code",
      "source": [
        "arr2.shape"
      ],
      "metadata": {
        "colab": {
          "base_uri": "https://localhost:8080/"
        },
        "id": "JbuPCEinZISM",
        "outputId": "0c19e855-9791-4e86-ea27-3cd3878c0c26"
      },
      "execution_count": 15,
      "outputs": [
        {
          "output_type": "execute_result",
          "data": {
            "text/plain": [
              "(2, 4)"
            ]
          },
          "metadata": {},
          "execution_count": 15
        }
      ]
    },
    {
      "cell_type": "markdown",
      "source": [
        "Если явно не задано иное (подробнее об этом ниже), то функция np.array пытается самостоятельно определить подходящий тип данных для создаваемого\n",
        "массива. Этот тип данных хранится в  специальном объекте dtype; например,\n",
        "в примерах выше имеем"
      ],
      "metadata": {
        "id": "DO8BQLJOZM6p"
      }
    },
    {
      "cell_type": "code",
      "source": [
        "arr1.dtype"
      ],
      "metadata": {
        "colab": {
          "base_uri": "https://localhost:8080/"
        },
        "id": "fmApMoP6ZJvI",
        "outputId": "66326b7a-d435-42bb-8d15-bbdd7a5998a9"
      },
      "execution_count": 17,
      "outputs": [
        {
          "output_type": "execute_result",
          "data": {
            "text/plain": [
              "dtype('float64')"
            ]
          },
          "metadata": {},
          "execution_count": 17
        }
      ]
    },
    {
      "cell_type": "code",
      "source": [
        "arr2.dtype"
      ],
      "metadata": {
        "colab": {
          "base_uri": "https://localhost:8080/"
        },
        "id": "FRZHHeheZOER",
        "outputId": "46bf340c-3248-4553-f37c-a143525bd5a3"
      },
      "execution_count": 18,
      "outputs": [
        {
          "output_type": "execute_result",
          "data": {
            "text/plain": [
              "dtype('int64')"
            ]
          },
          "metadata": {},
          "execution_count": 18
        }
      ]
    },
    {
      "cell_type": "markdown",
      "source": [
        "Помимо numpy.array, существует еще ряд функций для создания массивов.\n",
        "Например, numpy.zeros и  numpy.ones создают массивы заданной длины или формы, состоящие из нулей и единиц соответственно, а numpy.empty создает массив,\n",
        "не инициализируя его элементы. Для создания многомерных массивов нужно\n",
        "передать кортеж, описывающий форму"
      ],
      "metadata": {
        "id": "TdZbWLzSZXh5"
      }
    },
    {
      "cell_type": "code",
      "source": [
        "np.zeros(10)"
      ],
      "metadata": {
        "colab": {
          "base_uri": "https://localhost:8080/"
        },
        "id": "lhkO-Yj2ZQm8",
        "outputId": "c4d2334e-b6a8-4b14-a71d-dd16c0d066d9"
      },
      "execution_count": 19,
      "outputs": [
        {
          "output_type": "execute_result",
          "data": {
            "text/plain": [
              "array([0., 0., 0., 0., 0., 0., 0., 0., 0., 0.])"
            ]
          },
          "metadata": {},
          "execution_count": 19
        }
      ]
    },
    {
      "cell_type": "code",
      "source": [
        "np.zeros((3, 6))"
      ],
      "metadata": {
        "colab": {
          "base_uri": "https://localhost:8080/"
        },
        "id": "dtrHa6MAZZ-f",
        "outputId": "e274aa87-63d6-4afc-eb4e-de58078f2dba"
      },
      "execution_count": 20,
      "outputs": [
        {
          "output_type": "execute_result",
          "data": {
            "text/plain": [
              "array([[0., 0., 0., 0., 0., 0.],\n",
              "       [0., 0., 0., 0., 0., 0.],\n",
              "       [0., 0., 0., 0., 0., 0.]])"
            ]
          },
          "metadata": {},
          "execution_count": 20
        }
      ]
    },
    {
      "cell_type": "code",
      "source": [
        "np.empty((2, 3, 2))"
      ],
      "metadata": {
        "colab": {
          "base_uri": "https://localhost:8080/"
        },
        "id": "StBmGJqoZb88",
        "outputId": "c7403c05-6a4d-4dd0-b3e9-6880d4764c73"
      },
      "execution_count": 21,
      "outputs": [
        {
          "output_type": "execute_result",
          "data": {
            "text/plain": [
              "array([[[5.0121555e-310, 0.0000000e+000],\n",
              "        [0.0000000e+000, 0.0000000e+000],\n",
              "        [0.0000000e+000, 0.0000000e+000]],\n",
              "\n",
              "       [[0.0000000e+000, 0.0000000e+000],\n",
              "        [0.0000000e+000, 0.0000000e+000],\n",
              "        [0.0000000e+000, 0.0000000e+000]]])"
            ]
          },
          "metadata": {},
          "execution_count": 21
        }
      ]
    },
    {
      "cell_type": "markdown",
      "source": [
        "Предполагать, что numpy.empty возвращает массив из одних нулей, небезопасно. Часто возвращается массив, содержащий\n",
        "неинициализированный мусор,  – как в  примере выше. Эту\n",
        "функцию следует использовать, только если вы собираетесь заполнить новый массив данными."
      ],
      "metadata": {
        "id": "b8knjnUuZkaF"
      }
    },
    {
      "cell_type": "markdown",
      "source": [
        "\n",
        "\n",
        "---\n",
        "\n"
      ],
      "metadata": {
        "id": "_p4WxHD_ZpiN"
      }
    },
    {
      "cell_type": "markdown",
      "source": [
        "Функция numpy.arange – вариант встроенной в  Python функции range, только\n",
        "возвращаемым значением является массив:"
      ],
      "metadata": {
        "id": "ERGjyknfZoIO"
      }
    },
    {
      "cell_type": "code",
      "source": [
        "np.arange(15)"
      ],
      "metadata": {
        "colab": {
          "base_uri": "https://localhost:8080/"
        },
        "id": "NXbj5ln5Ze5J",
        "outputId": "64781126-71f2-4515-b688-7669e6591098"
      },
      "execution_count": 23,
      "outputs": [
        {
          "output_type": "execute_result",
          "data": {
            "text/plain": [
              "array([ 0,  1,  2,  3,  4,  5,  6,  7,  8,  9, 10, 11, 12, 13, 14])"
            ]
          },
          "metadata": {},
          "execution_count": 23
        }
      ]
    },
    {
      "cell_type": "markdown",
      "source": [
        "## Тип данных для ndarray"
      ],
      "metadata": {
        "id": "XJYFW6B4adS9"
      }
    },
    {
      "cell_type": "code",
      "source": [
        "arr1 = np.array([1, 2, 3], dtype = np.float64)"
      ],
      "metadata": {
        "id": "NigyzGxTZsWI"
      },
      "execution_count": 24,
      "outputs": []
    },
    {
      "cell_type": "code",
      "source": [
        "arr1.dtype"
      ],
      "metadata": {
        "colab": {
          "base_uri": "https://localhost:8080/"
        },
        "id": "CtH_4Eu2al-H",
        "outputId": "30b9f095-41fa-41d6-9ad7-956130b08481"
      },
      "execution_count": 25,
      "outputs": [
        {
          "output_type": "execute_result",
          "data": {
            "text/plain": [
              "dtype('float64')"
            ]
          },
          "metadata": {},
          "execution_count": 25
        }
      ]
    },
    {
      "cell_type": "code",
      "source": [
        "arr2 = np.array([1, 2, 3], dtype = np.int32)"
      ],
      "metadata": {
        "id": "N70JzNrranE5"
      },
      "execution_count": 27,
      "outputs": []
    },
    {
      "cell_type": "code",
      "source": [
        "arr2.dtype"
      ],
      "metadata": {
        "colab": {
          "base_uri": "https://localhost:8080/"
        },
        "id": "oh3f39ZtaqY5",
        "outputId": "4e349445-a8ae-4420-9ed3-0b2b41520ab3"
      },
      "execution_count": 28,
      "outputs": [
        {
          "output_type": "execute_result",
          "data": {
            "text/plain": [
              "dtype('int32')"
            ]
          },
          "metadata": {},
          "execution_count": 28
        }
      ]
    },
    {
      "cell_type": "markdown",
      "source": [
        "Можно явно преобразовать, или привести, массив одного типа к другому,\n",
        "воспользовавшись методом astype"
      ],
      "metadata": {
        "id": "bP3GQs0dbj2a"
      }
    },
    {
      "cell_type": "code",
      "source": [
        "arr = np.array([1, 2, 3, 4, 5])"
      ],
      "metadata": {
        "id": "maoQeF23asTt"
      },
      "execution_count": 29,
      "outputs": []
    },
    {
      "cell_type": "code",
      "source": [
        "arr.dtype"
      ],
      "metadata": {
        "colab": {
          "base_uri": "https://localhost:8080/"
        },
        "id": "ks7-nyhwbmvJ",
        "outputId": "bd5d4c22-8eac-4d8c-e593-d0580a41dd4f"
      },
      "execution_count": 30,
      "outputs": [
        {
          "output_type": "execute_result",
          "data": {
            "text/plain": [
              "dtype('int64')"
            ]
          },
          "metadata": {},
          "execution_count": 30
        }
      ]
    },
    {
      "cell_type": "code",
      "source": [
        "float_arr = arr.astype(np.float64)"
      ],
      "metadata": {
        "id": "bg1jDQl7bnTA"
      },
      "execution_count": 31,
      "outputs": []
    },
    {
      "cell_type": "code",
      "source": [
        "float_arr"
      ],
      "metadata": {
        "colab": {
          "base_uri": "https://localhost:8080/"
        },
        "id": "7GBDXGWYbs8w",
        "outputId": "c939625c-5532-47d3-a587-0e0af9cee3b6"
      },
      "execution_count": 34,
      "outputs": [
        {
          "output_type": "execute_result",
          "data": {
            "text/plain": [
              "array([1., 2., 3., 4., 5.])"
            ]
          },
          "metadata": {},
          "execution_count": 34
        }
      ]
    },
    {
      "cell_type": "code",
      "source": [
        "float_arr.dtype"
      ],
      "metadata": {
        "colab": {
          "base_uri": "https://localhost:8080/"
        },
        "id": "moO1WJLhbq3D",
        "outputId": "e5a98937-127b-47cd-8472-bb712cd79199"
      },
      "execution_count": 35,
      "outputs": [
        {
          "output_type": "execute_result",
          "data": {
            "text/plain": [
              "dtype('float64')"
            ]
          },
          "metadata": {},
          "execution_count": 35
        }
      ]
    },
    {
      "cell_type": "code",
      "source": [
        "float_arr_int = float_arr.astype(np.int32)"
      ],
      "metadata": {
        "id": "zMH2y3mPbvPA"
      },
      "execution_count": 36,
      "outputs": []
    },
    {
      "cell_type": "code",
      "source": [
        "float_arr_int"
      ],
      "metadata": {
        "colab": {
          "base_uri": "https://localhost:8080/"
        },
        "id": "BrV4_c_Kb4j-",
        "outputId": "8aa172f0-23db-4148-cf1d-d5134a909a9a"
      },
      "execution_count": 37,
      "outputs": [
        {
          "output_type": "execute_result",
          "data": {
            "text/plain": [
              "array([1, 2, 3, 4, 5], dtype=int32)"
            ]
          },
          "metadata": {},
          "execution_count": 37
        }
      ]
    },
    {
      "cell_type": "code",
      "source": [
        "float_arr_int.dtype"
      ],
      "metadata": {
        "colab": {
          "base_uri": "https://localhost:8080/"
        },
        "id": "BLZsqokhb5aP",
        "outputId": "2f229ab2-ca47-4e1a-d18d-aeb01abde9c3"
      },
      "execution_count": 39,
      "outputs": [
        {
          "output_type": "execute_result",
          "data": {
            "text/plain": [
              "dtype('int32')"
            ]
          },
          "metadata": {},
          "execution_count": 39
        }
      ]
    },
    {
      "cell_type": "markdown",
      "source": [
        "При вызове astype всегда создается новый массив (данные копируются), даже если новый dtype не отличается от старого"
      ],
      "metadata": {
        "id": "3WXmCtInc7rX"
      }
    },
    {
      "cell_type": "markdown",
      "source": [
        "## Арифметические операции с массивами NumPy"
      ],
      "metadata": {
        "id": "IqRqny-Gc_1W"
      }
    },
    {
      "cell_type": "markdown",
      "source": [
        "Массивы важны, потому что позволяют выразить операции над совокупностями данных без выписывания циклов for. Обычно это называется векторизацией. Любая арифметическая операция над массивами одинакового размера\n",
        "применяется к соответственным элементам"
      ],
      "metadata": {
        "id": "0YdWMSyUeBco"
      }
    },
    {
      "cell_type": "code",
      "source": [
        "arr = np.array([[1., 2., 3.], [4., 5., 6.]])"
      ],
      "metadata": {
        "id": "a-F2v_llck3Z"
      },
      "execution_count": 58,
      "outputs": []
    },
    {
      "cell_type": "code",
      "source": [
        "arr"
      ],
      "metadata": {
        "colab": {
          "base_uri": "https://localhost:8080/"
        },
        "id": "SL5fZ9-vc9ir",
        "outputId": "56b21ccc-1eb4-4c3b-9023-fcac6161b4f1"
      },
      "execution_count": 59,
      "outputs": [
        {
          "output_type": "execute_result",
          "data": {
            "text/plain": [
              "array([[1., 2., 3.],\n",
              "       [4., 5., 6.]])"
            ]
          },
          "metadata": {},
          "execution_count": 59
        }
      ]
    },
    {
      "cell_type": "code",
      "source": [
        "arr * arr"
      ],
      "metadata": {
        "colab": {
          "base_uri": "https://localhost:8080/"
        },
        "id": "WnHh-2MmeGUv",
        "outputId": "3935e6a1-bb41-4bc3-f9c9-9048f3e2be20"
      },
      "execution_count": 60,
      "outputs": [
        {
          "output_type": "execute_result",
          "data": {
            "text/plain": [
              "array([[ 1.,  4.,  9.],\n",
              "       [16., 25., 36.]])"
            ]
          },
          "metadata": {},
          "execution_count": 60
        }
      ]
    },
    {
      "cell_type": "code",
      "source": [
        "arr - arr"
      ],
      "metadata": {
        "colab": {
          "base_uri": "https://localhost:8080/"
        },
        "id": "h8nnLFsLeIsg",
        "outputId": "b7cfcf59-3b2b-476c-988a-26b707a73d95"
      },
      "execution_count": 61,
      "outputs": [
        {
          "output_type": "execute_result",
          "data": {
            "text/plain": [
              "array([[0., 0., 0.],\n",
              "       [0., 0., 0.]])"
            ]
          },
          "metadata": {},
          "execution_count": 61
        }
      ]
    },
    {
      "cell_type": "markdown",
      "source": [
        "Арифметические операции, в  которых участвует скаляр, применяются\n",
        "к каждому элементу массива"
      ],
      "metadata": {
        "id": "3rU9Np7JeLgO"
      }
    },
    {
      "cell_type": "code",
      "source": [
        "1 / arr"
      ],
      "metadata": {
        "colab": {
          "base_uri": "https://localhost:8080/"
        },
        "id": "DYtT4oyteJr5",
        "outputId": "48c65439-20e5-4f9a-f381-5056892a0017"
      },
      "execution_count": 62,
      "outputs": [
        {
          "output_type": "execute_result",
          "data": {
            "text/plain": [
              "array([[1.        , 0.5       , 0.33333333],\n",
              "       [0.25      , 0.2       , 0.16666667]])"
            ]
          },
          "metadata": {},
          "execution_count": 62
        }
      ]
    },
    {
      "cell_type": "code",
      "source": [
        "arr ** 2"
      ],
      "metadata": {
        "colab": {
          "base_uri": "https://localhost:8080/"
        },
        "id": "vdkzHgCkeMXW",
        "outputId": "76fae246-3119-461e-fb69-2c7fbc184db1"
      },
      "execution_count": 63,
      "outputs": [
        {
          "output_type": "execute_result",
          "data": {
            "text/plain": [
              "array([[ 1.,  4.,  9.],\n",
              "       [16., 25., 36.]])"
            ]
          },
          "metadata": {},
          "execution_count": 63
        }
      ]
    },
    {
      "cell_type": "markdown",
      "source": [
        "Сравнение массивов одинакового размера дает булев массив"
      ],
      "metadata": {
        "id": "jVFfXy2beQIX"
      }
    },
    {
      "cell_type": "code",
      "source": [
        "arr2 = np.array([[0., 4., 1.], [7., 2., 12.]])"
      ],
      "metadata": {
        "id": "s8L9IGxieN_D"
      },
      "execution_count": 68,
      "outputs": []
    },
    {
      "cell_type": "code",
      "source": [
        "arr2"
      ],
      "metadata": {
        "colab": {
          "base_uri": "https://localhost:8080/"
        },
        "id": "CyUtQKj3eSAx",
        "outputId": "e699afe9-9482-4972-cf60-7fb6b584e9fc"
      },
      "execution_count": 69,
      "outputs": [
        {
          "output_type": "execute_result",
          "data": {
            "text/plain": [
              "array([[ 0.,  4.,  1.],\n",
              "       [ 7.,  2., 12.]])"
            ]
          },
          "metadata": {},
          "execution_count": 69
        }
      ]
    },
    {
      "cell_type": "code",
      "source": [
        "arr2 == arr"
      ],
      "metadata": {
        "colab": {
          "base_uri": "https://localhost:8080/"
        },
        "id": "7J2mQTSGeS-_",
        "outputId": "66248e7e-c6ed-47e9-d98f-31b9273ffd0e"
      },
      "execution_count": 70,
      "outputs": [
        {
          "output_type": "execute_result",
          "data": {
            "text/plain": [
              "array([[False, False, False],\n",
              "       [False, False, False]])"
            ]
          },
          "metadata": {},
          "execution_count": 70
        }
      ]
    },
    {
      "cell_type": "markdown",
      "source": [
        "Операции между массивами разного размера называются укладыванием"
      ],
      "metadata": {
        "id": "lY8h7_DtecyZ"
      }
    },
    {
      "cell_type": "markdown",
      "source": [
        "## Индексирование и вырезание"
      ],
      "metadata": {
        "id": "kit2qJTKegep"
      }
    },
    {
      "cell_type": "markdown",
      "source": [
        "Индексирование массивов NumPy – обширная тема, поскольку подмножество\n",
        "массива или его отдельные элементы можно выбрать различными способами.\n",
        "С одномерными массивами все просто; на поверхностный взгляд, они ведут\n",
        "себя как списки Python"
      ],
      "metadata": {
        "id": "y41OofZakXM8"
      }
    },
    {
      "cell_type": "code",
      "source": [
        "arr = np.arange(10)"
      ],
      "metadata": {
        "id": "oY3qAgHFeT-Y"
      },
      "execution_count": 71,
      "outputs": []
    },
    {
      "cell_type": "code",
      "source": [
        "arr"
      ],
      "metadata": {
        "colab": {
          "base_uri": "https://localhost:8080/"
        },
        "id": "-0xJeQktkZz-",
        "outputId": "28bb2ef1-cad8-4a63-ac74-d985a49a2c49"
      },
      "execution_count": 72,
      "outputs": [
        {
          "output_type": "execute_result",
          "data": {
            "text/plain": [
              "array([0, 1, 2, 3, 4, 5, 6, 7, 8, 9])"
            ]
          },
          "metadata": {},
          "execution_count": 72
        }
      ]
    },
    {
      "cell_type": "code",
      "source": [
        "arr[5:8]"
      ],
      "metadata": {
        "colab": {
          "base_uri": "https://localhost:8080/"
        },
        "id": "yBoe-Sfykbs6",
        "outputId": "e4185248-d4bb-4aeb-f95e-623416467517"
      },
      "execution_count": 73,
      "outputs": [
        {
          "output_type": "execute_result",
          "data": {
            "text/plain": [
              "array([5, 6, 7])"
            ]
          },
          "metadata": {},
          "execution_count": 73
        }
      ]
    },
    {
      "cell_type": "code",
      "source": [
        "arr[5:8] = 12"
      ],
      "metadata": {
        "id": "vHjpWZD5kdpH"
      },
      "execution_count": 74,
      "outputs": []
    },
    {
      "cell_type": "code",
      "source": [
        "arr[5:8]"
      ],
      "metadata": {
        "colab": {
          "base_uri": "https://localhost:8080/"
        },
        "id": "OlDHVHFrkiDy",
        "outputId": "edd96320-3dd5-4cd5-8a92-2b1208c6491e"
      },
      "execution_count": 75,
      "outputs": [
        {
          "output_type": "execute_result",
          "data": {
            "text/plain": [
              "array([12, 12, 12])"
            ]
          },
          "metadata": {},
          "execution_count": 75
        }
      ]
    },
    {
      "cell_type": "markdown",
      "source": [
        "Как видите, если присвоить скалярное значение срезу, как в arr[5:8] = 12, то\n",
        "оно распространяется (или укладывается) на весь срез. Важнейшее отличие от встроенных в  Python списков состоит\n",
        "в том, что срез массива является представлением исходного массива. Это означает, что данные на самом деле не  копируются,\n",
        "а любые изменения, внесенные в представление, попадают и в\n",
        "исходный массив."
      ],
      "metadata": {
        "id": "kH65AF_9kmke"
      }
    },
    {
      "cell_type": "code",
      "source": [
        "arr_slice = arr[5:8]\n",
        "arr_slice"
      ],
      "metadata": {
        "colab": {
          "base_uri": "https://localhost:8080/"
        },
        "id": "Q_zHX9d0kuVb",
        "outputId": "03000456-5890-4f14-8ea8-b08372daab39"
      },
      "execution_count": 76,
      "outputs": [
        {
          "output_type": "execute_result",
          "data": {
            "text/plain": [
              "array([12, 12, 12])"
            ]
          },
          "metadata": {},
          "execution_count": 76
        }
      ]
    },
    {
      "cell_type": "markdown",
      "source": [
        "Если теперь изменить значения в arr_slice, то изменения отразятся и на исходном массиве arr"
      ],
      "metadata": {
        "id": "lyTaPsX5k4Fj"
      }
    },
    {
      "cell_type": "code",
      "source": [
        "arr_slice[1] = 12345"
      ],
      "metadata": {
        "id": "KvB5v24BkjhE"
      },
      "execution_count": 77,
      "outputs": []
    },
    {
      "cell_type": "code",
      "source": [
        "arr"
      ],
      "metadata": {
        "colab": {
          "base_uri": "https://localhost:8080/"
        },
        "id": "skhAMwrik8Gl",
        "outputId": "0d0b0504-da70-4d3e-d9f6-f49b8281a98b"
      },
      "execution_count": 78,
      "outputs": [
        {
          "output_type": "execute_result",
          "data": {
            "text/plain": [
              "array([    0,     1,     2,     3,     4,    12, 12345,    12,     8,\n",
              "           9])"
            ]
          },
          "metadata": {},
          "execution_count": 78
        }
      ]
    },
    {
      "cell_type": "markdown",
      "source": [
        "Присваивание неуточненному срезу [:] приводит к записи значения во все\n",
        "элементы массива:\n"
      ],
      "metadata": {
        "id": "PDQK0SEWk_5A"
      }
    },
    {
      "cell_type": "code",
      "source": [
        "arr_slice[:] = 64"
      ],
      "metadata": {
        "id": "rGT9KfNVk8Wy"
      },
      "execution_count": 79,
      "outputs": []
    },
    {
      "cell_type": "code",
      "source": [
        "arr"
      ],
      "metadata": {
        "colab": {
          "base_uri": "https://localhost:8080/"
        },
        "id": "v_cQnkK9lCRg",
        "outputId": "6f5ea3d0-cac9-4c96-c9be-de46f9a66ce8"
      },
      "execution_count": 81,
      "outputs": [
        {
          "output_type": "execute_result",
          "data": {
            "text/plain": [
              "array([ 0,  1,  2,  3,  4, 64, 64, 64,  8,  9])"
            ]
          },
          "metadata": {},
          "execution_count": 81
        }
      ]
    },
    {
      "cell_type": "markdown",
      "source": [
        "Чтобы получить копию, а  не представление среза массива,\n",
        "нужно выполнить операцию копирования явно, например\n",
        "arr[5:8].copy()."
      ],
      "metadata": {
        "id": "_88IecbblJ8n"
      }
    },
    {
      "cell_type": "markdown",
      "source": [
        "\n",
        "\n",
        "---\n",
        "\n"
      ],
      "metadata": {
        "id": "i7TwWaJAlMwY"
      }
    },
    {
      "cell_type": "markdown",
      "source": [
        "Для массивов большей размерности и вариантов тоже больше. В случае двумерного массива элемент с заданным индексом является не скаляром, а одномерным массивом"
      ],
      "metadata": {
        "id": "wB3QX1JQlPKJ"
      }
    },
    {
      "cell_type": "code",
      "source": [
        "arr2d = np.array([[1, 2, 3], [4, 5, 6], [7, 8, 9]])"
      ],
      "metadata": {
        "id": "_D74ySEflQ3Y"
      },
      "execution_count": 82,
      "outputs": []
    },
    {
      "cell_type": "code",
      "source": [
        "arr2d[2]"
      ],
      "metadata": {
        "colab": {
          "base_uri": "https://localhost:8080/"
        },
        "id": "AQe2bkztlKHb",
        "outputId": "ae384da7-472f-4978-a27c-07d653e3adf2"
      },
      "execution_count": 83,
      "outputs": [
        {
          "output_type": "execute_result",
          "data": {
            "text/plain": [
              "array([7, 8, 9])"
            ]
          },
          "metadata": {},
          "execution_count": 83
        }
      ]
    },
    {
      "cell_type": "markdown",
      "source": [
        "К отдельным элементам можно обращаться рекурсивно. Но это слишком\n",
        "громоздко, поэтому для выбора одного элемента можно указать список индексов через запятую."
      ],
      "metadata": {
        "id": "QPwU-LUOlbiW"
      }
    },
    {
      "cell_type": "code",
      "source": [
        "arr2d[0][2]"
      ],
      "metadata": {
        "colab": {
          "base_uri": "https://localhost:8080/"
        },
        "id": "ndvY69k2lcJf",
        "outputId": "8664ed8a-7ab7-4a16-e66f-01669da66bd8"
      },
      "execution_count": 85,
      "outputs": [
        {
          "output_type": "execute_result",
          "data": {
            "text/plain": [
              "3"
            ]
          },
          "metadata": {},
          "execution_count": 85
        }
      ]
    },
    {
      "cell_type": "code",
      "source": [
        "arr2d[0, 2]"
      ],
      "metadata": {
        "colab": {
          "base_uri": "https://localhost:8080/"
        },
        "id": "beYn6V43lWDK",
        "outputId": "ebfaa750-1239-4356-99fe-8d7913e10ad7"
      },
      "execution_count": 86,
      "outputs": [
        {
          "output_type": "execute_result",
          "data": {
            "text/plain": [
              "3"
            ]
          },
          "metadata": {},
          "execution_count": 86
        }
      ]
    },
    {
      "cell_type": "markdown",
      "source": [
        "## Индексирование срезами"
      ],
      "metadata": {
        "id": "5Wm9Iet1l3Oo"
      }
    },
    {
      "cell_type": "markdown",
      "source": [
        "Как и  для одномерных объектов наподобие списков Python, для объектов\n",
        "ndarray можно формировать срезы"
      ],
      "metadata": {
        "id": "gVETMsSFl6Xf"
      }
    },
    {
      "cell_type": "code",
      "source": [
        "arr"
      ],
      "metadata": {
        "colab": {
          "base_uri": "https://localhost:8080/"
        },
        "id": "WfW-IZuYlYn7",
        "outputId": "fd0d4050-0410-45b8-8fb8-300aecd2c26c"
      },
      "execution_count": 87,
      "outputs": [
        {
          "output_type": "execute_result",
          "data": {
            "text/plain": [
              "array([ 0,  1,  2,  3,  4, 64, 64, 64,  8,  9])"
            ]
          },
          "metadata": {},
          "execution_count": 87
        }
      ]
    },
    {
      "cell_type": "code",
      "source": [
        "arr[1:6]"
      ],
      "metadata": {
        "colab": {
          "base_uri": "https://localhost:8080/"
        },
        "id": "rvNxT7J_l7V_",
        "outputId": "087b897f-c979-451a-b2e5-ca5c7300d9ac"
      },
      "execution_count": 88,
      "outputs": [
        {
          "output_type": "execute_result",
          "data": {
            "text/plain": [
              "array([ 1,  2,  3,  4, 64])"
            ]
          },
          "metadata": {},
          "execution_count": 88
        }
      ]
    },
    {
      "cell_type": "code",
      "source": [
        "arr2d"
      ],
      "metadata": {
        "colab": {
          "base_uri": "https://localhost:8080/"
        },
        "id": "tge2yB1Hl9i2",
        "outputId": "4549d030-7839-4531-b93a-098362317b76"
      },
      "execution_count": 89,
      "outputs": [
        {
          "output_type": "execute_result",
          "data": {
            "text/plain": [
              "array([[1, 2, 3],\n",
              "       [4, 5, 6],\n",
              "       [7, 8, 9]])"
            ]
          },
          "metadata": {},
          "execution_count": 89
        }
      ]
    },
    {
      "cell_type": "markdown",
      "source": [
        "Выражение arr2d[:2] полезно читать так: «выбрать первые две строки arr2d»"
      ],
      "metadata": {
        "id": "1_4uTnummKFt"
      }
    },
    {
      "cell_type": "code",
      "source": [
        "arr2d[:2]"
      ],
      "metadata": {
        "colab": {
          "base_uri": "https://localhost:8080/"
        },
        "id": "8KIlkVQxl_Hg",
        "outputId": "51df6600-1c20-4428-ad29-2939c992de2f"
      },
      "execution_count": 92,
      "outputs": [
        {
          "output_type": "execute_result",
          "data": {
            "text/plain": [
              "array([[1, 2, 3],\n",
              "       [4, 5, 6]])"
            ]
          },
          "metadata": {},
          "execution_count": 92
        }
      ]
    },
    {
      "cell_type": "markdown",
      "source": [
        "Можно указать несколько срезов – как несколько индексов"
      ],
      "metadata": {
        "id": "bZp4MoJfmNaR"
      }
    },
    {
      "cell_type": "code",
      "source": [
        "arr2d[:2, 1:]"
      ],
      "metadata": {
        "colab": {
          "base_uri": "https://localhost:8080/"
        },
        "id": "6yqIO9S0mPNn",
        "outputId": "d53c905b-0673-4c28-c724-cc23acb82dec"
      },
      "execution_count": 93,
      "outputs": [
        {
          "output_type": "execute_result",
          "data": {
            "text/plain": [
              "array([[2, 3],\n",
              "       [5, 6]])"
            ]
          },
          "metadata": {},
          "execution_count": 93
        }
      ]
    },
    {
      "cell_type": "markdown",
      "source": [
        "При таком вырезании мы всегда получаем представления массивов с таким\n",
        "же числом измерений, как у исходного. Сочетая срезы и целочисленные индексы, можно получить массивы меньшей размерности.\n",
        "Например, я могу выбрать вторую строку, а в ней только первые два столбца"
      ],
      "metadata": {
        "id": "r-G32EpDmzcT"
      }
    },
    {
      "cell_type": "code",
      "source": [
        "arr2d"
      ],
      "metadata": {
        "colab": {
          "base_uri": "https://localhost:8080/"
        },
        "id": "baW0DLi0m_1I",
        "outputId": "29cdc498-d325-49f0-a484-36280f6de7c7"
      },
      "execution_count": 96,
      "outputs": [
        {
          "output_type": "execute_result",
          "data": {
            "text/plain": [
              "array([[1, 2, 3],\n",
              "       [4, 5, 6],\n",
              "       [7, 8, 9]])"
            ]
          },
          "metadata": {},
          "execution_count": 96
        }
      ]
    },
    {
      "cell_type": "code",
      "source": [
        "lower_dim_slice = arr2d[1, :2]"
      ],
      "metadata": {
        "id": "fYpFfdXomva4"
      },
      "execution_count": 94,
      "outputs": []
    },
    {
      "cell_type": "code",
      "source": [
        "lower_dim_slice"
      ],
      "metadata": {
        "colab": {
          "base_uri": "https://localhost:8080/"
        },
        "id": "f3-JG3rfm3e4",
        "outputId": "a6de94d3-00cd-4e1a-d7ae-aff45f022bb2"
      },
      "execution_count": 95,
      "outputs": [
        {
          "output_type": "execute_result",
          "data": {
            "text/plain": [
              "array([4, 5])"
            ]
          },
          "metadata": {},
          "execution_count": 95
        }
      ]
    },
    {
      "cell_type": "markdown",
      "source": [
        "## Булево индексирование"
      ],
      "metadata": {
        "id": "VugevcdrnKNO"
      }
    },
    {
      "cell_type": "code",
      "source": [],
      "metadata": {
        "id": "Nwu1AY7Ym-TK"
      },
      "execution_count": null,
      "outputs": []
    }
  ]
}
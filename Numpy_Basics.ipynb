{
  "nbformat": 4,
  "nbformat_minor": 0,
  "metadata": {
    "colab": {
      "provenance": [],
      "toc_visible": true,
      "authorship_tag": "ABX9TyMypNqEmL2BzEdAcDd5n9+x"
    },
    "kernelspec": {
      "name": "python3",
      "display_name": "Python 3"
    },
    "language_info": {
      "name": "python"
    }
  },
  "cells": [
    {
      "cell_type": "markdown",
      "source": [
        "# Numpy"
      ],
      "metadata": {
        "id": "CaPikUXZYHyC"
      }
    },
    {
      "cell_type": "markdown",
      "source": [
        "## Numpy Ndarray: объект многомерного массива"
      ],
      "metadata": {
        "id": "ikt6cl0eYKX3"
      }
    },
    {
      "cell_type": "markdown",
      "source": [
        "Объект ndarray для представления\n",
        "N-мерного массива; это быстрый и гибкий контейнер для хранения больших\n",
        "наборов данных в  Python"
      ],
      "metadata": {
        "id": "LEUHzGkKYaSW"
      }
    },
    {
      "cell_type": "code",
      "execution_count": 2,
      "metadata": {
        "id": "54LK6aarXNJ6"
      },
      "outputs": [],
      "source": [
        "import numpy as np"
      ]
    },
    {
      "cell_type": "code",
      "source": [
        "data = np.array([[1.5, -0.1, 3], [0, -3, 6.5]])"
      ],
      "metadata": {
        "id": "jZNehfScYBbM"
      },
      "execution_count": 3,
      "outputs": []
    },
    {
      "cell_type": "markdown",
      "source": [
        "У любого массива есть атрибут shape – кортеж, описывающий размер по каждому измерению,\n",
        "и атрибут dtype – объект, описывающий тип данных в массиве"
      ],
      "metadata": {
        "id": "YwCjxwlDYdW-"
      }
    },
    {
      "cell_type": "code",
      "source": [
        "data.shape"
      ],
      "metadata": {
        "colab": {
          "base_uri": "https://localhost:8080/"
        },
        "id": "hgxAkjSxYEdH",
        "outputId": "48b5ff92-c620-478c-a79d-bc9a874628dc"
      },
      "execution_count": 4,
      "outputs": [
        {
          "output_type": "execute_result",
          "data": {
            "text/plain": [
              "(2, 3)"
            ]
          },
          "metadata": {},
          "execution_count": 4
        }
      ]
    },
    {
      "cell_type": "code",
      "source": [
        "data.dtype"
      ],
      "metadata": {
        "colab": {
          "base_uri": "https://localhost:8080/"
        },
        "id": "_aQq3DzZYipH",
        "outputId": "d7e60662-fedc-4451-8d79-98e565178412"
      },
      "execution_count": 5,
      "outputs": [
        {
          "output_type": "execute_result",
          "data": {
            "text/plain": [
              "dtype('float64')"
            ]
          },
          "metadata": {},
          "execution_count": 5
        }
      ]
    },
    {
      "cell_type": "markdown",
      "source": [
        "## Создание ndarray"
      ],
      "metadata": {
        "id": "W_z6bCBbYpWs"
      }
    },
    {
      "cell_type": "markdown",
      "source": [
        "Проще всего создать массив с помощью функции array. Она принимает любой\n",
        "объект, похожий на последовательность (в том числе другой массив), и порождает новый массив NumPy, содержащий переданные данные. Например, такое\n",
        "преобразование можно проделать со списком"
      ],
      "metadata": {
        "id": "6XVpfjLxYvcP"
      }
    },
    {
      "cell_type": "code",
      "source": [
        "data1 = [6, 7.5, 8, 0, 1]"
      ],
      "metadata": {
        "id": "gn1gzmb-Yj46"
      },
      "execution_count": 6,
      "outputs": []
    },
    {
      "cell_type": "code",
      "source": [
        "arr1 = np.array(data1)"
      ],
      "metadata": {
        "id": "8DZQoi6-YyYm"
      },
      "execution_count": 7,
      "outputs": []
    },
    {
      "cell_type": "code",
      "source": [
        "arr1"
      ],
      "metadata": {
        "colab": {
          "base_uri": "https://localhost:8080/"
        },
        "id": "mhc7a0rOY0Wl",
        "outputId": "179de23d-e6f3-4213-9e99-0b4fc8f44133"
      },
      "execution_count": 8,
      "outputs": [
        {
          "output_type": "execute_result",
          "data": {
            "text/plain": [
              "array([6. , 7.5, 8. , 0. , 1. ])"
            ]
          },
          "metadata": {},
          "execution_count": 8
        }
      ]
    },
    {
      "cell_type": "markdown",
      "source": [
        "Вложенные последовательности, например список списков одинаковой\n",
        "длины, можно преобразовать в многомерный массив"
      ],
      "metadata": {
        "id": "KSCMmNAvY9hY"
      }
    },
    {
      "cell_type": "code",
      "source": [
        "data2 = [[1, 2, 3, 4], [5, 6, 7, 8]]"
      ],
      "metadata": {
        "id": "V7yiyQrlY0rr"
      },
      "execution_count": 9,
      "outputs": []
    },
    {
      "cell_type": "code",
      "source": [
        "arr2 = np.array(data2)"
      ],
      "metadata": {
        "id": "Ka5wRc_SY_T2"
      },
      "execution_count": 10,
      "outputs": []
    },
    {
      "cell_type": "code",
      "source": [
        "arr2"
      ],
      "metadata": {
        "colab": {
          "base_uri": "https://localhost:8080/"
        },
        "id": "VGPkhb5nZBUL",
        "outputId": "f71bab85-2de4-447f-b93a-af8c39f53628"
      },
      "execution_count": 11,
      "outputs": [
        {
          "output_type": "execute_result",
          "data": {
            "text/plain": [
              "array([[1, 2, 3, 4],\n",
              "       [5, 6, 7, 8]])"
            ]
          },
          "metadata": {},
          "execution_count": 11
        }
      ]
    },
    {
      "cell_type": "markdown",
      "source": [
        "Поскольку data2 – список списков, массив NumPy arr2 имеет два измерения,\n",
        "а его форма выведена из данных. В этом легко убедиться, прочитав атрибуты\n",
        "ndim и shape"
      ],
      "metadata": {
        "id": "pn60q3UMZFxg"
      }
    },
    {
      "cell_type": "code",
      "source": [
        "arr2.ndim"
      ],
      "metadata": {
        "colab": {
          "base_uri": "https://localhost:8080/"
        },
        "id": "x40CatsTZBqy",
        "outputId": "243193a5-fd38-45b6-f950-168915df7148"
      },
      "execution_count": 12,
      "outputs": [
        {
          "output_type": "execute_result",
          "data": {
            "text/plain": [
              "2"
            ]
          },
          "metadata": {},
          "execution_count": 12
        }
      ]
    },
    {
      "cell_type": "code",
      "source": [
        "arr2.shape"
      ],
      "metadata": {
        "colab": {
          "base_uri": "https://localhost:8080/"
        },
        "id": "JbuPCEinZISM",
        "outputId": "4f3a859e-325b-4c76-f9f2-8011f2a9f488"
      },
      "execution_count": 13,
      "outputs": [
        {
          "output_type": "execute_result",
          "data": {
            "text/plain": [
              "(2, 4)"
            ]
          },
          "metadata": {},
          "execution_count": 13
        }
      ]
    },
    {
      "cell_type": "markdown",
      "source": [
        "Если явно не задано иное (подробнее об этом ниже), то функция np.array пытается самостоятельно определить подходящий тип данных для создаваемого\n",
        "массива. Этот тип данных хранится в  специальном объекте dtype; например,\n",
        "в примерах выше имеем"
      ],
      "metadata": {
        "id": "DO8BQLJOZM6p"
      }
    },
    {
      "cell_type": "code",
      "source": [
        "arr1.dtype"
      ],
      "metadata": {
        "colab": {
          "base_uri": "https://localhost:8080/"
        },
        "id": "fmApMoP6ZJvI",
        "outputId": "414d5b71-751a-4fea-ebcb-c6a2da286aef"
      },
      "execution_count": 14,
      "outputs": [
        {
          "output_type": "execute_result",
          "data": {
            "text/plain": [
              "dtype('float64')"
            ]
          },
          "metadata": {},
          "execution_count": 14
        }
      ]
    },
    {
      "cell_type": "code",
      "source": [
        "arr2.dtype"
      ],
      "metadata": {
        "colab": {
          "base_uri": "https://localhost:8080/"
        },
        "id": "FRZHHeheZOER",
        "outputId": "a1c93fb6-0dc8-4afe-8348-48aba876f51a"
      },
      "execution_count": 15,
      "outputs": [
        {
          "output_type": "execute_result",
          "data": {
            "text/plain": [
              "dtype('int64')"
            ]
          },
          "metadata": {},
          "execution_count": 15
        }
      ]
    },
    {
      "cell_type": "markdown",
      "source": [
        "Помимо numpy.array, существует еще ряд функций для создания массивов.\n",
        "Например, numpy.zeros и  numpy.ones создают массивы заданной длины или формы, состоящие из нулей и единиц соответственно, а numpy.empty создает массив,\n",
        "не инициализируя его элементы. Для создания многомерных массивов нужно\n",
        "передать кортеж, описывающий форму"
      ],
      "metadata": {
        "id": "TdZbWLzSZXh5"
      }
    },
    {
      "cell_type": "code",
      "source": [
        "np.zeros(10)"
      ],
      "metadata": {
        "colab": {
          "base_uri": "https://localhost:8080/"
        },
        "id": "lhkO-Yj2ZQm8",
        "outputId": "f9276193-90c0-45fb-c9f6-b36b9b669a54"
      },
      "execution_count": 16,
      "outputs": [
        {
          "output_type": "execute_result",
          "data": {
            "text/plain": [
              "array([0., 0., 0., 0., 0., 0., 0., 0., 0., 0.])"
            ]
          },
          "metadata": {},
          "execution_count": 16
        }
      ]
    },
    {
      "cell_type": "code",
      "source": [
        "np.zeros((3, 6))"
      ],
      "metadata": {
        "colab": {
          "base_uri": "https://localhost:8080/"
        },
        "id": "dtrHa6MAZZ-f",
        "outputId": "2fa58770-fa02-448d-bf70-49a493ce5a4e"
      },
      "execution_count": 17,
      "outputs": [
        {
          "output_type": "execute_result",
          "data": {
            "text/plain": [
              "array([[0., 0., 0., 0., 0., 0.],\n",
              "       [0., 0., 0., 0., 0., 0.],\n",
              "       [0., 0., 0., 0., 0., 0.]])"
            ]
          },
          "metadata": {},
          "execution_count": 17
        }
      ]
    },
    {
      "cell_type": "code",
      "source": [
        "np.empty((2, 3, 2))"
      ],
      "metadata": {
        "colab": {
          "base_uri": "https://localhost:8080/"
        },
        "id": "StBmGJqoZb88",
        "outputId": "13279357-f966-4521-c9cd-b03cb4aea1a4"
      },
      "execution_count": 18,
      "outputs": [
        {
          "output_type": "execute_result",
          "data": {
            "text/plain": [
              "array([[[6.86890316e-310, 0.00000000e+000],\n",
              "        [0.00000000e+000, 0.00000000e+000],\n",
              "        [0.00000000e+000, 0.00000000e+000]],\n",
              "\n",
              "       [[0.00000000e+000, 0.00000000e+000],\n",
              "        [0.00000000e+000, 0.00000000e+000],\n",
              "        [0.00000000e+000, 0.00000000e+000]]])"
            ]
          },
          "metadata": {},
          "execution_count": 18
        }
      ]
    },
    {
      "cell_type": "markdown",
      "source": [
        "Предполагать, что numpy.empty возвращает массив из одних нулей, небезопасно. Часто возвращается массив, содержащий\n",
        "неинициализированный мусор,  – как в  примере выше. Эту\n",
        "функцию следует использовать, только если вы собираетесь заполнить новый массив данными."
      ],
      "metadata": {
        "id": "b8knjnUuZkaF"
      }
    },
    {
      "cell_type": "markdown",
      "source": [
        "\n",
        "\n",
        "---\n",
        "\n"
      ],
      "metadata": {
        "id": "_p4WxHD_ZpiN"
      }
    },
    {
      "cell_type": "markdown",
      "source": [
        "Функция numpy.arange – вариант встроенной в  Python функции range, только\n",
        "возвращаемым значением является массив:"
      ],
      "metadata": {
        "id": "ERGjyknfZoIO"
      }
    },
    {
      "cell_type": "code",
      "source": [
        "np.arange(15)"
      ],
      "metadata": {
        "colab": {
          "base_uri": "https://localhost:8080/"
        },
        "id": "NXbj5ln5Ze5J",
        "outputId": "c6f9795a-44b0-4a08-934c-281969245282"
      },
      "execution_count": 19,
      "outputs": [
        {
          "output_type": "execute_result",
          "data": {
            "text/plain": [
              "array([ 0,  1,  2,  3,  4,  5,  6,  7,  8,  9, 10, 11, 12, 13, 14])"
            ]
          },
          "metadata": {},
          "execution_count": 19
        }
      ]
    },
    {
      "cell_type": "markdown",
      "source": [
        "## Тип данных для ndarray"
      ],
      "metadata": {
        "id": "XJYFW6B4adS9"
      }
    },
    {
      "cell_type": "code",
      "source": [
        "arr1 = np.array([1, 2, 3], dtype = np.float64)"
      ],
      "metadata": {
        "id": "NigyzGxTZsWI"
      },
      "execution_count": 20,
      "outputs": []
    },
    {
      "cell_type": "code",
      "source": [
        "arr1.dtype"
      ],
      "metadata": {
        "colab": {
          "base_uri": "https://localhost:8080/"
        },
        "id": "CtH_4Eu2al-H",
        "outputId": "482123c0-3c16-4416-f9c8-8dbd122cbcc9"
      },
      "execution_count": 21,
      "outputs": [
        {
          "output_type": "execute_result",
          "data": {
            "text/plain": [
              "dtype('float64')"
            ]
          },
          "metadata": {},
          "execution_count": 21
        }
      ]
    },
    {
      "cell_type": "code",
      "source": [
        "arr2 = np.array([1, 2, 3], dtype = np.int32)"
      ],
      "metadata": {
        "id": "N70JzNrranE5"
      },
      "execution_count": 22,
      "outputs": []
    },
    {
      "cell_type": "code",
      "source": [
        "arr2.dtype"
      ],
      "metadata": {
        "colab": {
          "base_uri": "https://localhost:8080/"
        },
        "id": "oh3f39ZtaqY5",
        "outputId": "d6499f78-e7dc-4ec4-cb5b-e91581daedb8"
      },
      "execution_count": 23,
      "outputs": [
        {
          "output_type": "execute_result",
          "data": {
            "text/plain": [
              "dtype('int32')"
            ]
          },
          "metadata": {},
          "execution_count": 23
        }
      ]
    },
    {
      "cell_type": "markdown",
      "source": [
        "Можно явно преобразовать, или привести, массив одного типа к другому,\n",
        "воспользовавшись методом astype"
      ],
      "metadata": {
        "id": "bP3GQs0dbj2a"
      }
    },
    {
      "cell_type": "code",
      "source": [
        "arr = np.array([1, 2, 3, 4, 5])"
      ],
      "metadata": {
        "id": "maoQeF23asTt"
      },
      "execution_count": 24,
      "outputs": []
    },
    {
      "cell_type": "code",
      "source": [
        "arr.dtype"
      ],
      "metadata": {
        "colab": {
          "base_uri": "https://localhost:8080/"
        },
        "id": "ks7-nyhwbmvJ",
        "outputId": "e15d5d1a-c97f-4f68-9504-35a9d23774e0"
      },
      "execution_count": 25,
      "outputs": [
        {
          "output_type": "execute_result",
          "data": {
            "text/plain": [
              "dtype('int64')"
            ]
          },
          "metadata": {},
          "execution_count": 25
        }
      ]
    },
    {
      "cell_type": "code",
      "source": [
        "float_arr = arr.astype(np.float64)"
      ],
      "metadata": {
        "id": "bg1jDQl7bnTA"
      },
      "execution_count": 26,
      "outputs": []
    },
    {
      "cell_type": "code",
      "source": [
        "float_arr"
      ],
      "metadata": {
        "colab": {
          "base_uri": "https://localhost:8080/"
        },
        "id": "7GBDXGWYbs8w",
        "outputId": "59b5f1fa-ddf3-4ab5-fe7c-ef0542930408"
      },
      "execution_count": 27,
      "outputs": [
        {
          "output_type": "execute_result",
          "data": {
            "text/plain": [
              "array([1., 2., 3., 4., 5.])"
            ]
          },
          "metadata": {},
          "execution_count": 27
        }
      ]
    },
    {
      "cell_type": "code",
      "source": [
        "float_arr.dtype"
      ],
      "metadata": {
        "colab": {
          "base_uri": "https://localhost:8080/"
        },
        "id": "moO1WJLhbq3D",
        "outputId": "0411383b-51e6-417f-8084-d33cff91e155"
      },
      "execution_count": 28,
      "outputs": [
        {
          "output_type": "execute_result",
          "data": {
            "text/plain": [
              "dtype('float64')"
            ]
          },
          "metadata": {},
          "execution_count": 28
        }
      ]
    },
    {
      "cell_type": "code",
      "source": [
        "float_arr_int = float_arr.astype(np.int32)"
      ],
      "metadata": {
        "id": "zMH2y3mPbvPA"
      },
      "execution_count": 29,
      "outputs": []
    },
    {
      "cell_type": "code",
      "source": [
        "float_arr_int"
      ],
      "metadata": {
        "colab": {
          "base_uri": "https://localhost:8080/"
        },
        "id": "BrV4_c_Kb4j-",
        "outputId": "4b7c8c1b-09a7-493e-e2ca-70a6a24c2eee"
      },
      "execution_count": 30,
      "outputs": [
        {
          "output_type": "execute_result",
          "data": {
            "text/plain": [
              "array([1, 2, 3, 4, 5], dtype=int32)"
            ]
          },
          "metadata": {},
          "execution_count": 30
        }
      ]
    },
    {
      "cell_type": "code",
      "source": [
        "float_arr_int.dtype"
      ],
      "metadata": {
        "colab": {
          "base_uri": "https://localhost:8080/"
        },
        "id": "BLZsqokhb5aP",
        "outputId": "657f7df0-c941-4863-e214-26a07fdcecd9"
      },
      "execution_count": 31,
      "outputs": [
        {
          "output_type": "execute_result",
          "data": {
            "text/plain": [
              "dtype('int32')"
            ]
          },
          "metadata": {},
          "execution_count": 31
        }
      ]
    },
    {
      "cell_type": "markdown",
      "source": [
        "При вызове astype всегда создается новый массив (данные копируются), даже если новый dtype не отличается от старого"
      ],
      "metadata": {
        "id": "3WXmCtInc7rX"
      }
    },
    {
      "cell_type": "markdown",
      "source": [
        "## Арифметические операции с массивами NumPy"
      ],
      "metadata": {
        "id": "IqRqny-Gc_1W"
      }
    },
    {
      "cell_type": "markdown",
      "source": [
        "Массивы важны, потому что позволяют выразить операции над совокупностями данных без выписывания циклов for. Обычно это называется векторизацией. Любая арифметическая операция над массивами одинакового размера\n",
        "применяется к соответственным элементам"
      ],
      "metadata": {
        "id": "0YdWMSyUeBco"
      }
    },
    {
      "cell_type": "code",
      "source": [
        "arr = np.array([[1., 2., 3.], [4., 5., 6.]])"
      ],
      "metadata": {
        "id": "a-F2v_llck3Z"
      },
      "execution_count": 32,
      "outputs": []
    },
    {
      "cell_type": "code",
      "source": [
        "arr"
      ],
      "metadata": {
        "colab": {
          "base_uri": "https://localhost:8080/"
        },
        "id": "SL5fZ9-vc9ir",
        "outputId": "ec84b672-b8e0-4753-9054-ad98292184d5"
      },
      "execution_count": 33,
      "outputs": [
        {
          "output_type": "execute_result",
          "data": {
            "text/plain": [
              "array([[1., 2., 3.],\n",
              "       [4., 5., 6.]])"
            ]
          },
          "metadata": {},
          "execution_count": 33
        }
      ]
    },
    {
      "cell_type": "code",
      "source": [
        "arr * arr"
      ],
      "metadata": {
        "colab": {
          "base_uri": "https://localhost:8080/"
        },
        "id": "WnHh-2MmeGUv",
        "outputId": "071ace16-2bd2-4950-90aa-ebed29b08368"
      },
      "execution_count": 34,
      "outputs": [
        {
          "output_type": "execute_result",
          "data": {
            "text/plain": [
              "array([[ 1.,  4.,  9.],\n",
              "       [16., 25., 36.]])"
            ]
          },
          "metadata": {},
          "execution_count": 34
        }
      ]
    },
    {
      "cell_type": "code",
      "source": [
        "arr - arr"
      ],
      "metadata": {
        "colab": {
          "base_uri": "https://localhost:8080/"
        },
        "id": "h8nnLFsLeIsg",
        "outputId": "0abf9a08-3c24-4bf7-8e48-e66e593bd168"
      },
      "execution_count": 35,
      "outputs": [
        {
          "output_type": "execute_result",
          "data": {
            "text/plain": [
              "array([[0., 0., 0.],\n",
              "       [0., 0., 0.]])"
            ]
          },
          "metadata": {},
          "execution_count": 35
        }
      ]
    },
    {
      "cell_type": "markdown",
      "source": [
        "Арифметические операции, в  которых участвует скаляр, применяются\n",
        "к каждому элементу массива"
      ],
      "metadata": {
        "id": "3rU9Np7JeLgO"
      }
    },
    {
      "cell_type": "code",
      "source": [
        "1 / arr"
      ],
      "metadata": {
        "colab": {
          "base_uri": "https://localhost:8080/"
        },
        "id": "DYtT4oyteJr5",
        "outputId": "7d7735ae-d746-4f82-cbb3-f48d2dcb0db6"
      },
      "execution_count": 36,
      "outputs": [
        {
          "output_type": "execute_result",
          "data": {
            "text/plain": [
              "array([[1.        , 0.5       , 0.33333333],\n",
              "       [0.25      , 0.2       , 0.16666667]])"
            ]
          },
          "metadata": {},
          "execution_count": 36
        }
      ]
    },
    {
      "cell_type": "code",
      "source": [
        "arr ** 2"
      ],
      "metadata": {
        "colab": {
          "base_uri": "https://localhost:8080/"
        },
        "id": "vdkzHgCkeMXW",
        "outputId": "d064aa49-7483-4e62-f2c9-0866445d0d81"
      },
      "execution_count": 37,
      "outputs": [
        {
          "output_type": "execute_result",
          "data": {
            "text/plain": [
              "array([[ 1.,  4.,  9.],\n",
              "       [16., 25., 36.]])"
            ]
          },
          "metadata": {},
          "execution_count": 37
        }
      ]
    },
    {
      "cell_type": "markdown",
      "source": [
        "Сравнение массивов одинакового размера дает булев массив"
      ],
      "metadata": {
        "id": "jVFfXy2beQIX"
      }
    },
    {
      "cell_type": "code",
      "source": [
        "arr2 = np.array([[0., 4., 1.], [7., 2., 12.]])"
      ],
      "metadata": {
        "id": "s8L9IGxieN_D"
      },
      "execution_count": 38,
      "outputs": []
    },
    {
      "cell_type": "code",
      "source": [
        "arr2"
      ],
      "metadata": {
        "colab": {
          "base_uri": "https://localhost:8080/"
        },
        "id": "CyUtQKj3eSAx",
        "outputId": "c8a929a7-e196-4e15-d699-7217467ecd81"
      },
      "execution_count": 39,
      "outputs": [
        {
          "output_type": "execute_result",
          "data": {
            "text/plain": [
              "array([[ 0.,  4.,  1.],\n",
              "       [ 7.,  2., 12.]])"
            ]
          },
          "metadata": {},
          "execution_count": 39
        }
      ]
    },
    {
      "cell_type": "code",
      "source": [
        "arr2 == arr"
      ],
      "metadata": {
        "colab": {
          "base_uri": "https://localhost:8080/"
        },
        "id": "7J2mQTSGeS-_",
        "outputId": "7133782d-93b8-4d9f-c556-bcbd981bfe1a"
      },
      "execution_count": 40,
      "outputs": [
        {
          "output_type": "execute_result",
          "data": {
            "text/plain": [
              "array([[False, False, False],\n",
              "       [False, False, False]])"
            ]
          },
          "metadata": {},
          "execution_count": 40
        }
      ]
    },
    {
      "cell_type": "markdown",
      "source": [
        "Операции между массивами разного размера называются укладыванием"
      ],
      "metadata": {
        "id": "lY8h7_DtecyZ"
      }
    },
    {
      "cell_type": "markdown",
      "source": [
        "## Индексирование и вырезание"
      ],
      "metadata": {
        "id": "kit2qJTKegep"
      }
    },
    {
      "cell_type": "markdown",
      "source": [
        "Индексирование массивов NumPy – обширная тема, поскольку подмножество\n",
        "массива или его отдельные элементы можно выбрать различными способами.\n",
        "С одномерными массивами все просто; на поверхностный взгляд, они ведут\n",
        "себя как списки Python"
      ],
      "metadata": {
        "id": "y41OofZakXM8"
      }
    },
    {
      "cell_type": "code",
      "source": [
        "arr = np.arange(10)"
      ],
      "metadata": {
        "id": "oY3qAgHFeT-Y"
      },
      "execution_count": 41,
      "outputs": []
    },
    {
      "cell_type": "code",
      "source": [
        "arr"
      ],
      "metadata": {
        "colab": {
          "base_uri": "https://localhost:8080/"
        },
        "id": "-0xJeQktkZz-",
        "outputId": "d7dd4b4c-edb2-4980-c27a-0321085cadb1"
      },
      "execution_count": 42,
      "outputs": [
        {
          "output_type": "execute_result",
          "data": {
            "text/plain": [
              "array([0, 1, 2, 3, 4, 5, 6, 7, 8, 9])"
            ]
          },
          "metadata": {},
          "execution_count": 42
        }
      ]
    },
    {
      "cell_type": "code",
      "source": [
        "arr[5:8]"
      ],
      "metadata": {
        "colab": {
          "base_uri": "https://localhost:8080/"
        },
        "id": "yBoe-Sfykbs6",
        "outputId": "eaf7575b-c1eb-43fd-ff69-a5803603a242"
      },
      "execution_count": 43,
      "outputs": [
        {
          "output_type": "execute_result",
          "data": {
            "text/plain": [
              "array([5, 6, 7])"
            ]
          },
          "metadata": {},
          "execution_count": 43
        }
      ]
    },
    {
      "cell_type": "code",
      "source": [
        "arr[5:8] = 12"
      ],
      "metadata": {
        "id": "vHjpWZD5kdpH"
      },
      "execution_count": 44,
      "outputs": []
    },
    {
      "cell_type": "code",
      "source": [
        "arr[5:8]"
      ],
      "metadata": {
        "colab": {
          "base_uri": "https://localhost:8080/"
        },
        "id": "OlDHVHFrkiDy",
        "outputId": "30e9786e-443d-44bd-d07a-b59b4467607d"
      },
      "execution_count": 45,
      "outputs": [
        {
          "output_type": "execute_result",
          "data": {
            "text/plain": [
              "array([12, 12, 12])"
            ]
          },
          "metadata": {},
          "execution_count": 45
        }
      ]
    },
    {
      "cell_type": "markdown",
      "source": [
        "Как видите, если присвоить скалярное значение срезу, как в arr[5:8] = 12, то\n",
        "оно распространяется (или укладывается) на весь срез. Важнейшее отличие от встроенных в  Python списков состоит\n",
        "в том, что срез массива является представлением исходного массива. Это означает, что данные на самом деле не  копируются,\n",
        "а любые изменения, внесенные в представление, попадают и в\n",
        "исходный массив."
      ],
      "metadata": {
        "id": "kH65AF_9kmke"
      }
    },
    {
      "cell_type": "code",
      "source": [
        "arr_slice = arr[5:8]\n",
        "arr_slice"
      ],
      "metadata": {
        "colab": {
          "base_uri": "https://localhost:8080/"
        },
        "id": "Q_zHX9d0kuVb",
        "outputId": "75cda939-af2b-441e-b8ba-584c1620b3ca"
      },
      "execution_count": 46,
      "outputs": [
        {
          "output_type": "execute_result",
          "data": {
            "text/plain": [
              "array([12, 12, 12])"
            ]
          },
          "metadata": {},
          "execution_count": 46
        }
      ]
    },
    {
      "cell_type": "markdown",
      "source": [
        "Если теперь изменить значения в arr_slice, то изменения отразятся и на исходном массиве arr"
      ],
      "metadata": {
        "id": "lyTaPsX5k4Fj"
      }
    },
    {
      "cell_type": "code",
      "source": [
        "arr_slice[1] = 12345"
      ],
      "metadata": {
        "id": "KvB5v24BkjhE"
      },
      "execution_count": 47,
      "outputs": []
    },
    {
      "cell_type": "code",
      "source": [
        "arr"
      ],
      "metadata": {
        "colab": {
          "base_uri": "https://localhost:8080/"
        },
        "id": "skhAMwrik8Gl",
        "outputId": "b301d21a-12a1-4192-aba4-f7bd84501edb"
      },
      "execution_count": 48,
      "outputs": [
        {
          "output_type": "execute_result",
          "data": {
            "text/plain": [
              "array([    0,     1,     2,     3,     4,    12, 12345,    12,     8,\n",
              "           9])"
            ]
          },
          "metadata": {},
          "execution_count": 48
        }
      ]
    },
    {
      "cell_type": "markdown",
      "source": [
        "Присваивание неуточненному срезу [:] приводит к записи значения во все\n",
        "элементы массива:\n"
      ],
      "metadata": {
        "id": "PDQK0SEWk_5A"
      }
    },
    {
      "cell_type": "code",
      "source": [
        "arr_slice[:] = 64"
      ],
      "metadata": {
        "id": "rGT9KfNVk8Wy"
      },
      "execution_count": 49,
      "outputs": []
    },
    {
      "cell_type": "code",
      "source": [
        "arr"
      ],
      "metadata": {
        "colab": {
          "base_uri": "https://localhost:8080/"
        },
        "id": "v_cQnkK9lCRg",
        "outputId": "a707c1b3-4a38-4555-908f-8d8fac58d408"
      },
      "execution_count": 50,
      "outputs": [
        {
          "output_type": "execute_result",
          "data": {
            "text/plain": [
              "array([ 0,  1,  2,  3,  4, 64, 64, 64,  8,  9])"
            ]
          },
          "metadata": {},
          "execution_count": 50
        }
      ]
    },
    {
      "cell_type": "markdown",
      "source": [
        "Чтобы получить копию, а  не представление среза массива,\n",
        "нужно выполнить операцию копирования явно, например\n",
        "arr[5:8].copy()."
      ],
      "metadata": {
        "id": "_88IecbblJ8n"
      }
    },
    {
      "cell_type": "markdown",
      "source": [
        "\n",
        "\n",
        "---\n",
        "\n"
      ],
      "metadata": {
        "id": "i7TwWaJAlMwY"
      }
    },
    {
      "cell_type": "markdown",
      "source": [
        "Для массивов большей размерности и вариантов тоже больше. В случае двумерного массива элемент с заданным индексом является не скаляром, а одномерным массивом"
      ],
      "metadata": {
        "id": "wB3QX1JQlPKJ"
      }
    },
    {
      "cell_type": "code",
      "source": [
        "arr2d = np.array([[1, 2, 3], [4, 5, 6], [7, 8, 9]])"
      ],
      "metadata": {
        "id": "_D74ySEflQ3Y"
      },
      "execution_count": 51,
      "outputs": []
    },
    {
      "cell_type": "code",
      "source": [
        "arr2d[2]"
      ],
      "metadata": {
        "colab": {
          "base_uri": "https://localhost:8080/"
        },
        "id": "AQe2bkztlKHb",
        "outputId": "fbab8622-4d01-4a0e-bcf4-eb737fd81341"
      },
      "execution_count": 52,
      "outputs": [
        {
          "output_type": "execute_result",
          "data": {
            "text/plain": [
              "array([7, 8, 9])"
            ]
          },
          "metadata": {},
          "execution_count": 52
        }
      ]
    },
    {
      "cell_type": "markdown",
      "source": [
        "К отдельным элементам можно обращаться рекурсивно. Но это слишком\n",
        "громоздко, поэтому для выбора одного элемента можно указать список индексов через запятую."
      ],
      "metadata": {
        "id": "QPwU-LUOlbiW"
      }
    },
    {
      "cell_type": "code",
      "source": [
        "arr2d[0][2]"
      ],
      "metadata": {
        "colab": {
          "base_uri": "https://localhost:8080/"
        },
        "id": "ndvY69k2lcJf",
        "outputId": "b9d46221-a8b3-4e3a-e368-c2ff15fbc8ca"
      },
      "execution_count": 53,
      "outputs": [
        {
          "output_type": "execute_result",
          "data": {
            "text/plain": [
              "3"
            ]
          },
          "metadata": {},
          "execution_count": 53
        }
      ]
    },
    {
      "cell_type": "code",
      "source": [
        "arr2d[0, 2]"
      ],
      "metadata": {
        "colab": {
          "base_uri": "https://localhost:8080/"
        },
        "id": "beYn6V43lWDK",
        "outputId": "dd319840-1070-496f-e9dd-5d387b2160af"
      },
      "execution_count": 54,
      "outputs": [
        {
          "output_type": "execute_result",
          "data": {
            "text/plain": [
              "3"
            ]
          },
          "metadata": {},
          "execution_count": 54
        }
      ]
    },
    {
      "cell_type": "markdown",
      "source": [
        "## Индексирование срезами"
      ],
      "metadata": {
        "id": "5Wm9Iet1l3Oo"
      }
    },
    {
      "cell_type": "markdown",
      "source": [
        "Как и  для одномерных объектов наподобие списков Python, для объектов\n",
        "ndarray можно формировать срезы"
      ],
      "metadata": {
        "id": "gVETMsSFl6Xf"
      }
    },
    {
      "cell_type": "code",
      "source": [
        "arr"
      ],
      "metadata": {
        "colab": {
          "base_uri": "https://localhost:8080/"
        },
        "id": "WfW-IZuYlYn7",
        "outputId": "ed4c8e32-3753-4c13-a910-a64f3f9de2f9"
      },
      "execution_count": 55,
      "outputs": [
        {
          "output_type": "execute_result",
          "data": {
            "text/plain": [
              "array([ 0,  1,  2,  3,  4, 64, 64, 64,  8,  9])"
            ]
          },
          "metadata": {},
          "execution_count": 55
        }
      ]
    },
    {
      "cell_type": "code",
      "source": [
        "arr[1:6]"
      ],
      "metadata": {
        "colab": {
          "base_uri": "https://localhost:8080/"
        },
        "id": "rvNxT7J_l7V_",
        "outputId": "7d750ca1-0297-45a0-82ee-4c59085a7543"
      },
      "execution_count": 56,
      "outputs": [
        {
          "output_type": "execute_result",
          "data": {
            "text/plain": [
              "array([ 1,  2,  3,  4, 64])"
            ]
          },
          "metadata": {},
          "execution_count": 56
        }
      ]
    },
    {
      "cell_type": "code",
      "source": [
        "arr2d"
      ],
      "metadata": {
        "colab": {
          "base_uri": "https://localhost:8080/"
        },
        "id": "tge2yB1Hl9i2",
        "outputId": "14054571-f356-4b68-e078-6abd728a9937"
      },
      "execution_count": 57,
      "outputs": [
        {
          "output_type": "execute_result",
          "data": {
            "text/plain": [
              "array([[1, 2, 3],\n",
              "       [4, 5, 6],\n",
              "       [7, 8, 9]])"
            ]
          },
          "metadata": {},
          "execution_count": 57
        }
      ]
    },
    {
      "cell_type": "markdown",
      "source": [
        "Выражение arr2d[:2] полезно читать так: «выбрать первые две строки arr2d»"
      ],
      "metadata": {
        "id": "1_4uTnummKFt"
      }
    },
    {
      "cell_type": "code",
      "source": [
        "arr2d[:2]"
      ],
      "metadata": {
        "colab": {
          "base_uri": "https://localhost:8080/"
        },
        "id": "8KIlkVQxl_Hg",
        "outputId": "20cb9c72-7e35-44d9-f1ad-878d8895a43a"
      },
      "execution_count": 58,
      "outputs": [
        {
          "output_type": "execute_result",
          "data": {
            "text/plain": [
              "array([[1, 2, 3],\n",
              "       [4, 5, 6]])"
            ]
          },
          "metadata": {},
          "execution_count": 58
        }
      ]
    },
    {
      "cell_type": "markdown",
      "source": [
        "Можно указать несколько срезов – как несколько индексов"
      ],
      "metadata": {
        "id": "bZp4MoJfmNaR"
      }
    },
    {
      "cell_type": "code",
      "source": [
        "arr2d[:2, 1:]"
      ],
      "metadata": {
        "colab": {
          "base_uri": "https://localhost:8080/"
        },
        "id": "6yqIO9S0mPNn",
        "outputId": "38187562-2e57-423d-fb97-cfcab518d952"
      },
      "execution_count": 59,
      "outputs": [
        {
          "output_type": "execute_result",
          "data": {
            "text/plain": [
              "array([[2, 3],\n",
              "       [5, 6]])"
            ]
          },
          "metadata": {},
          "execution_count": 59
        }
      ]
    },
    {
      "cell_type": "markdown",
      "source": [
        "При таком вырезании мы всегда получаем представления массивов с таким\n",
        "же числом измерений, как у исходного. Сочетая срезы и целочисленные индексы, можно получить массивы меньшей размерности.\n",
        "Например, я могу выбрать вторую строку, а в ней только первые два столбца"
      ],
      "metadata": {
        "id": "r-G32EpDmzcT"
      }
    },
    {
      "cell_type": "code",
      "source": [
        "arr2d"
      ],
      "metadata": {
        "colab": {
          "base_uri": "https://localhost:8080/"
        },
        "id": "baW0DLi0m_1I",
        "outputId": "ffeb51f6-5d6c-4ed8-cc7b-273dbd5a2b41"
      },
      "execution_count": 60,
      "outputs": [
        {
          "output_type": "execute_result",
          "data": {
            "text/plain": [
              "array([[1, 2, 3],\n",
              "       [4, 5, 6],\n",
              "       [7, 8, 9]])"
            ]
          },
          "metadata": {},
          "execution_count": 60
        }
      ]
    },
    {
      "cell_type": "code",
      "source": [
        "lower_dim_slice = arr2d[1, :2]"
      ],
      "metadata": {
        "id": "fYpFfdXomva4"
      },
      "execution_count": 61,
      "outputs": []
    },
    {
      "cell_type": "code",
      "source": [
        "lower_dim_slice"
      ],
      "metadata": {
        "colab": {
          "base_uri": "https://localhost:8080/"
        },
        "id": "f3-JG3rfm3e4",
        "outputId": "575d806c-1b70-47ab-ebe5-5b10578b85c4"
      },
      "execution_count": 62,
      "outputs": [
        {
          "output_type": "execute_result",
          "data": {
            "text/plain": [
              "array([4, 5])"
            ]
          },
          "metadata": {},
          "execution_count": 62
        }
      ]
    },
    {
      "cell_type": "markdown",
      "source": [
        "## Булево индексирование"
      ],
      "metadata": {
        "id": "VugevcdrnKNO"
      }
    },
    {
      "cell_type": "markdown",
      "source": [
        "Пусть имеется некоторый массив с данными и массив имен, содержащий дубликаты"
      ],
      "metadata": {
        "id": "_W5teoouNe0A"
      }
    },
    {
      "cell_type": "code",
      "source": [
        "names = np.array([\"Bob\", \"Joe\", \"Will\", \"Bob\", \"Will\", \"Joe\", \"Joe\"])"
      ],
      "metadata": {
        "id": "Nwu1AY7Ym-TK"
      },
      "execution_count": 63,
      "outputs": []
    },
    {
      "cell_type": "code",
      "source": [
        "data = np.array([[4, 7], [0, 2], [-5, 6], [0, 0], [1, 2], [-12, -4], [3, 4]])"
      ],
      "metadata": {
        "id": "Qqqsca8jNmkj"
      },
      "execution_count": 66,
      "outputs": []
    },
    {
      "cell_type": "markdown",
      "source": [
        "Допустим, что каждое имя соответствует строке в массиве data и мы хотим\n",
        "выбрать все строки, которым соответствует имя 'Bob'. Операции сравнения\n",
        "массивов (например, ==), как и арифметические, также векторизованы. Поэтому сравнение names со строкой 'Bob' дает массив булевых величин:"
      ],
      "metadata": {
        "id": "PYz-_AAmOPIF"
      }
    },
    {
      "cell_type": "code",
      "source": [
        "data[names == 'Bob']"
      ],
      "metadata": {
        "id": "kK1Lc6HrNxTQ",
        "outputId": "fab259d0-3ca9-41c5-b201-0ec396c1257c",
        "colab": {
          "base_uri": "https://localhost:8080/"
        }
      },
      "execution_count": 67,
      "outputs": [
        {
          "output_type": "execute_result",
          "data": {
            "text/plain": [
              "array([[4, 7],\n",
              "       [0, 0]])"
            ]
          },
          "metadata": {},
          "execution_count": 67
        }
      ]
    },
    {
      "cell_type": "markdown",
      "source": [
        "В следующих примерах я выбираю строки, в которых names == 'Bob', и одновременно задаю индекс столбцов"
      ],
      "metadata": {
        "id": "fFFLznxzOXDw"
      }
    },
    {
      "cell_type": "code",
      "source": [
        "data[names == \"Bob\", 1:]"
      ],
      "metadata": {
        "id": "GjL1_lnaOTS5",
        "outputId": "232dea2e-90db-4bec-acd5-3d7e814f5104",
        "colab": {
          "base_uri": "https://localhost:8080/"
        }
      },
      "execution_count": 68,
      "outputs": [
        {
          "output_type": "execute_result",
          "data": {
            "text/plain": [
              "array([[7],\n",
              "       [0]])"
            ]
          },
          "metadata": {},
          "execution_count": 68
        }
      ]
    },
    {
      "cell_type": "markdown",
      "source": [
        "Чтобы выбрать все, кроме 'Bob', можно либо воспользоваться оператором\n",
        "сравнения !=, либо применить отрицание – условие, обозначаемое знаком ~:\n"
      ],
      "metadata": {
        "id": "A58m4HLSOec2"
      }
    },
    {
      "cell_type": "code",
      "source": [
        "data[names != 'Bob']"
      ],
      "metadata": {
        "id": "TWIK-VbnOaK7",
        "outputId": "a79d7aa1-6d1c-46c8-d91e-003e94cc5ef7",
        "colab": {
          "base_uri": "https://localhost:8080/"
        }
      },
      "execution_count": 69,
      "outputs": [
        {
          "output_type": "execute_result",
          "data": {
            "text/plain": [
              "array([[  0,   2],\n",
              "       [ -5,   6],\n",
              "       [  1,   2],\n",
              "       [-12,  -4],\n",
              "       [  3,   4]])"
            ]
          },
          "metadata": {},
          "execution_count": 69
        }
      ]
    },
    {
      "cell_type": "markdown",
      "source": [
        "Оператор ~ пригодится, когда требуется инвертировать массив, адресуемый\n",
        "переменной:\n"
      ],
      "metadata": {
        "id": "KGng3sg5On5T"
      }
    },
    {
      "cell_type": "code",
      "source": [
        "cond = names == 'Bob'\n",
        "data[~cond]"
      ],
      "metadata": {
        "id": "MFSxYwcEOhhF",
        "outputId": "6c5a87ff-c0c0-4cf7-c718-714ffd18323b",
        "colab": {
          "base_uri": "https://localhost:8080/"
        }
      },
      "execution_count": 70,
      "outputs": [
        {
          "output_type": "execute_result",
          "data": {
            "text/plain": [
              "array([[  0,   2],\n",
              "       [ -5,   6],\n",
              "       [  1,   2],\n",
              "       [-12,  -4],\n",
              "       [  3,   4]])"
            ]
          },
          "metadata": {},
          "execution_count": 70
        }
      ]
    },
    {
      "cell_type": "markdown",
      "source": [
        "Чтобы сформировать составное булево условие, включающее два из трех\n",
        "имен, воспользуемся булевыми операторами & (И) и | (ИЛИ):"
      ],
      "metadata": {
        "id": "ZqNmwcuhOwZr"
      }
    },
    {
      "cell_type": "code",
      "source": [
        "data[(names == 'Bob') | (names == 'Will')]"
      ],
      "metadata": {
        "id": "ysTShN8YO3-c",
        "outputId": "e44b455b-1b3e-4efc-cefd-2a4fed384543",
        "colab": {
          "base_uri": "https://localhost:8080/"
        }
      },
      "execution_count": 75,
      "outputs": [
        {
          "output_type": "execute_result",
          "data": {
            "text/plain": [
              "array([[ 4,  7],\n",
              "       [-5,  6],\n",
              "       [ 0,  0],\n",
              "       [ 1,  2]])"
            ]
          },
          "metadata": {},
          "execution_count": 75
        }
      ]
    },
    {
      "cell_type": "markdown",
      "source": [
        "Ключевые слова Python and и or с булевыми массивами не работают. Используйте вместо них & (и) и | (или)."
      ],
      "metadata": {
        "id": "j0HPIm1IPH_x"
      }
    },
    {
      "cell_type": "markdown",
      "source": [
        "\n",
        "\n",
        "---\n",
        "\n"
      ],
      "metadata": {
        "id": "eCHrvebLPNBW"
      }
    },
    {
      "cell_type": "markdown",
      "source": [
        "Если значение устанавливается с применением булева массива, то значения\n",
        "из массива в правой части копируются в левую часть только тогда, когда значение соответствующего элемента булева массива равно True. Например, чтобы заменить все отрицательные значения в массиве data нулями, нужно всего\n",
        "лишь написать:"
      ],
      "metadata": {
        "id": "z9rxAQySPMiD"
      }
    },
    {
      "cell_type": "code",
      "source": [
        "data[data < 0] = 0"
      ],
      "metadata": {
        "id": "x2V-2LVDO6ou"
      },
      "execution_count": 76,
      "outputs": []
    },
    {
      "cell_type": "code",
      "source": [
        "data"
      ],
      "metadata": {
        "id": "w0teELkaPSQH",
        "outputId": "256a2730-f363-4484-c9e2-ffa920dffd61",
        "colab": {
          "base_uri": "https://localhost:8080/"
        }
      },
      "execution_count": 77,
      "outputs": [
        {
          "output_type": "execute_result",
          "data": {
            "text/plain": [
              "array([[4, 7],\n",
              "       [0, 2],\n",
              "       [0, 6],\n",
              "       [0, 0],\n",
              "       [1, 2],\n",
              "       [0, 0],\n",
              "       [3, 4]])"
            ]
          },
          "metadata": {},
          "execution_count": 77
        }
      ]
    },
    {
      "cell_type": "markdown",
      "source": [
        "Задать целые строки или столбцы с помощью одномерного булева массива\n",
        "тоже просто:\n"
      ],
      "metadata": {
        "id": "Ps3dM-WePVvL"
      }
    },
    {
      "cell_type": "code",
      "source": [
        "data[names != ' Joe'] = 7"
      ],
      "metadata": {
        "id": "XjYhlm47PSlk"
      },
      "execution_count": 78,
      "outputs": []
    },
    {
      "cell_type": "code",
      "source": [
        "data"
      ],
      "metadata": {
        "id": "7Ssvs3JEPZBR",
        "outputId": "cc61a54b-e3c7-4553-dbfe-260a3353bed3",
        "colab": {
          "base_uri": "https://localhost:8080/"
        }
      },
      "execution_count": 79,
      "outputs": [
        {
          "output_type": "execute_result",
          "data": {
            "text/plain": [
              "array([[7, 7],\n",
              "       [7, 7],\n",
              "       [7, 7],\n",
              "       [7, 7],\n",
              "       [7, 7],\n",
              "       [7, 7],\n",
              "       [7, 7]])"
            ]
          },
          "metadata": {},
          "execution_count": 79
        }
      ]
    },
    {
      "cell_type": "markdown",
      "source": [
        "## Транспонирование массивов и перестановка осей"
      ],
      "metadata": {
        "id": "S708Wj3aPnWU"
      }
    },
    {
      "cell_type": "markdown",
      "source": [
        "Транспонирование – частный случай изменения формы, при этом также возвращается представление исходных данных без какого-либо копирования.\n",
        "У массивов имеется метод transpose и специальный атрибут T:"
      ],
      "metadata": {
        "id": "iJcjNERsPrCU"
      }
    },
    {
      "cell_type": "code",
      "source": [
        "arr = np.arange(15).reshape((3, 5))"
      ],
      "metadata": {
        "id": "Kft0erArPZSA"
      },
      "execution_count": 80,
      "outputs": []
    },
    {
      "cell_type": "code",
      "source": [
        "arr"
      ],
      "metadata": {
        "id": "UW8VBTzyPv8m",
        "outputId": "66aca142-2b84-4aec-b9a9-aeff1f2d51fd",
        "colab": {
          "base_uri": "https://localhost:8080/"
        }
      },
      "execution_count": 81,
      "outputs": [
        {
          "output_type": "execute_result",
          "data": {
            "text/plain": [
              "array([[ 0,  1,  2,  3,  4],\n",
              "       [ 5,  6,  7,  8,  9],\n",
              "       [10, 11, 12, 13, 14]])"
            ]
          },
          "metadata": {},
          "execution_count": 81
        }
      ]
    },
    {
      "cell_type": "code",
      "source": [
        "arr.T"
      ],
      "metadata": {
        "id": "oJFz8TaXQD5v",
        "outputId": "b3656f65-b429-411c-b681-c83d550bedc0",
        "colab": {
          "base_uri": "https://localhost:8080/"
        }
      },
      "execution_count": 82,
      "outputs": [
        {
          "output_type": "execute_result",
          "data": {
            "text/plain": [
              "array([[ 0,  5, 10],\n",
              "       [ 1,  6, 11],\n",
              "       [ 2,  7, 12],\n",
              "       [ 3,  8, 13],\n",
              "       [ 4,  9, 14]])"
            ]
          },
          "metadata": {},
          "execution_count": 82
        }
      ]
    },
    {
      "cell_type": "markdown",
      "source": [
        "Матрицы можно перемножить и  по-другому, воспользовавшись инфиксным оператором @"
      ],
      "metadata": {
        "id": "nyyTXp2GQNNs"
      }
    },
    {
      "cell_type": "code",
      "source": [
        "arr.T @ arr"
      ],
      "metadata": {
        "id": "ovEBHCRgQEnr",
        "outputId": "70b57a99-8e2e-49a7-a167-1d75db0ab608",
        "colab": {
          "base_uri": "https://localhost:8080/"
        }
      },
      "execution_count": 87,
      "outputs": [
        {
          "output_type": "execute_result",
          "data": {
            "text/plain": [
              "array([[125, 140, 155, 170, 185],\n",
              "       [140, 158, 176, 194, 212],\n",
              "       [155, 176, 197, 218, 239],\n",
              "       [170, 194, 218, 242, 266],\n",
              "       [185, 212, 239, 266, 293]])"
            ]
          },
          "metadata": {},
          "execution_count": 87
        }
      ]
    },
    {
      "cell_type": "markdown",
      "source": [
        "## 4.2. Генерирование псевдослучайных чисел"
      ],
      "metadata": {
        "id": "d7IUJfChQaSb"
      }
    },
    {
      "cell_type": "markdown",
      "source": [
        "Модуль numpy.random дополняет встроенный модуль random функциями, которые\n",
        "генерируют целые массивы случайных чисел с различными распределениями\n",
        "вероятности. Например, с помощью функции numpy.random.standard_normal можно\n",
        "получить случайный массив 4×4, выбранный из стандартного нормального\n",
        "распределения:"
      ],
      "metadata": {
        "id": "Wv8m4YEuQdgy"
      }
    },
    {
      "cell_type": "code",
      "source": [
        "samples = np.random.standard_normal(size = (4, 4))"
      ],
      "metadata": {
        "id": "TyPDkqrvQIc1"
      },
      "execution_count": 88,
      "outputs": []
    },
    {
      "cell_type": "code",
      "source": [
        "samples"
      ],
      "metadata": {
        "id": "4nIfytWaQhm6",
        "outputId": "3cc34f49-9dad-4203-e9c0-ebafea435cd5",
        "colab": {
          "base_uri": "https://localhost:8080/"
        }
      },
      "execution_count": 89,
      "outputs": [
        {
          "output_type": "execute_result",
          "data": {
            "text/plain": [
              "array([[ 1.64232904, -2.22575367, -0.29417005,  0.1635876 ],\n",
              "       [ 0.2659971 ,  0.64621804,  0.72053562, -0.53742292],\n",
              "       [-0.27442561,  1.84319502,  0.49559051,  0.14709972],\n",
              "       [ 0.94835418,  0.1707464 ,  1.21892726,  0.79889481]])"
            ]
          },
          "metadata": {},
          "execution_count": 89
        }
      ]
    },
    {
      "cell_type": "markdown",
      "source": [
        "## Универсальные функции: быстрые поэлементные операции над массивами"
      ],
      "metadata": {
        "id": "dGzP3Pu5QtMh"
      }
    },
    {
      "cell_type": "code",
      "source": [
        "arr = np.arange(10)"
      ],
      "metadata": {
        "id": "o8-V9QrnQiXT"
      },
      "execution_count": 90,
      "outputs": []
    },
    {
      "cell_type": "code",
      "source": [
        "np.sqrt(arr)"
      ],
      "metadata": {
        "id": "eFv73HCqQx9T",
        "outputId": "0a13369a-6d99-4032-d1d9-dfb41916c33b",
        "colab": {
          "base_uri": "https://localhost:8080/"
        }
      },
      "execution_count": 91,
      "outputs": [
        {
          "output_type": "execute_result",
          "data": {
            "text/plain": [
              "array([0.        , 1.        , 1.41421356, 1.73205081, 2.        ,\n",
              "       2.23606798, 2.44948974, 2.64575131, 2.82842712, 3.        ])"
            ]
          },
          "metadata": {},
          "execution_count": 91
        }
      ]
    },
    {
      "cell_type": "code",
      "source": [
        "np.exp(arr)"
      ],
      "metadata": {
        "id": "IIwOgcW4QzMw",
        "outputId": "9b5e73c9-1de5-4a99-d1df-88d95c43c079",
        "colab": {
          "base_uri": "https://localhost:8080/"
        }
      },
      "execution_count": 93,
      "outputs": [
        {
          "output_type": "execute_result",
          "data": {
            "text/plain": [
              "array([1.00000000e+00, 2.71828183e+00, 7.38905610e+00, 2.00855369e+01,\n",
              "       5.45981500e+01, 1.48413159e+02, 4.03428793e+02, 1.09663316e+03,\n",
              "       2.98095799e+03, 8.10308393e+03])"
            ]
          },
          "metadata": {},
          "execution_count": 93
        }
      ]
    },
    {
      "cell_type": "markdown",
      "source": [
        "Такие u-функции называются унарными. Другие, например numpy.add или\n",
        "numpy.maximum, принимают 2 массива (и потому называются бинарными) и возвращают один результирующий массив:"
      ],
      "metadata": {
        "id": "E7wWxKJUQ9Wn"
      }
    },
    {
      "cell_type": "markdown",
      "source": [
        "## Устранение дубликатов и другие теоретико-множественные операции"
      ],
      "metadata": {
        "id": "XtS-2Gs_RTvJ"
      }
    },
    {
      "cell_type": "markdown",
      "source": [
        "В NumPy имеются основные теоретико-множественные операции для одномерных массивов. Пожалуй, самой употребительной является numpy.unique, она\n",
        "возвращает отсортированное множество уникальных значений в массиве:"
      ],
      "metadata": {
        "id": "1oX_Ld-_RZ3-"
      }
    },
    {
      "cell_type": "code",
      "source": [
        "names = np.array([\"Bob\", \"Will\", \"Joe\", \"Bob\", \"Will\", \"Joe\", \"Joe\"])"
      ],
      "metadata": {
        "id": "qWnZ-KmLRCbA"
      },
      "execution_count": 97,
      "outputs": []
    },
    {
      "cell_type": "code",
      "source": [
        "np.unique(names)"
      ],
      "metadata": {
        "id": "f8jIIuN5RWb2",
        "outputId": "e72f1ed2-e87a-4ab6-c75e-4cdd8b88b6bd",
        "colab": {
          "base_uri": "https://localhost:8080/"
        }
      },
      "execution_count": 98,
      "outputs": [
        {
          "output_type": "execute_result",
          "data": {
            "text/plain": [
              "array(['Bob', 'Joe', 'Will'], dtype='<U4')"
            ]
          },
          "metadata": {},
          "execution_count": 98
        }
      ]
    },
    {
      "cell_type": "markdown",
      "source": [
        "Функция numpy.in1d проверяет, присутствуют ли значения из одного массива\n",
        "в другом, и возвращает булев массив:"
      ],
      "metadata": {
        "id": "Jrh_iJ0PRgeB"
      }
    },
    {
      "cell_type": "code",
      "source": [
        "values = np.array([6, 0, 0, 3, 2, 5, 6])"
      ],
      "metadata": {
        "id": "HLBBluYJRYY6"
      },
      "execution_count": 99,
      "outputs": []
    },
    {
      "cell_type": "code",
      "source": [
        "np.in1d(values, [2, 3, 6])"
      ],
      "metadata": {
        "id": "PnWY1vZWRpK1",
        "outputId": "70afaaf0-ef2a-406d-b15c-b21118ce67fe",
        "colab": {
          "base_uri": "https://localhost:8080/"
        }
      },
      "execution_count": 100,
      "outputs": [
        {
          "output_type": "execute_result",
          "data": {
            "text/plain": [
              "array([ True, False, False,  True,  True, False,  True])"
            ]
          },
          "metadata": {},
          "execution_count": 100
        }
      ]
    }
  ]
}